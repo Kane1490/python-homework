{
 "cells": [
  {
   "cell_type": "code",
   "execution_count": 1,
   "id": "c0b5534c-5136-4345-8c57-664cf7fd66df",
   "metadata": {},
   "outputs": [],
   "source": [
    "#Import numpy and pandas \n",
    "import numpy as np\n",
    "import pandas as pd\n",
    "from pathlib import Path\n",
    "\n",
    "# set the file path\n",
    "file_path = Path(\"budget_data.csv\")\n",
    "budget_dataframe = pd.read_csv(file_path)"
   ]
  },
  {
   "cell_type": "code",
   "execution_count": 2,
   "id": "4303413a-d5a4-4105-bc08-5bc5bae3625e",
   "metadata": {},
   "outputs": [
    {
     "data": {
      "text/html": [
       "<div>\n",
       "<style scoped>\n",
       "    .dataframe tbody tr th:only-of-type {\n",
       "        vertical-align: middle;\n",
       "    }\n",
       "\n",
       "    .dataframe tbody tr th {\n",
       "        vertical-align: top;\n",
       "    }\n",
       "\n",
       "    .dataframe thead th {\n",
       "        text-align: right;\n",
       "    }\n",
       "</style>\n",
       "<table border=\"1\" class=\"dataframe\">\n",
       "  <thead>\n",
       "    <tr style=\"text-align: right;\">\n",
       "      <th></th>\n",
       "      <th>Date</th>\n",
       "      <th>Profit/Losses</th>\n",
       "    </tr>\n",
       "  </thead>\n",
       "  <tbody>\n",
       "    <tr>\n",
       "      <th>0</th>\n",
       "      <td>Jan-10</td>\n",
       "      <td>867884</td>\n",
       "    </tr>\n",
       "    <tr>\n",
       "      <th>1</th>\n",
       "      <td>Feb-10</td>\n",
       "      <td>984655</td>\n",
       "    </tr>\n",
       "    <tr>\n",
       "      <th>2</th>\n",
       "      <td>Mar-10</td>\n",
       "      <td>322013</td>\n",
       "    </tr>\n",
       "    <tr>\n",
       "      <th>3</th>\n",
       "      <td>Apr-10</td>\n",
       "      <td>-69417</td>\n",
       "    </tr>\n",
       "    <tr>\n",
       "      <th>4</th>\n",
       "      <td>May-10</td>\n",
       "      <td>310503</td>\n",
       "    </tr>\n",
       "  </tbody>\n",
       "</table>\n",
       "</div>"
      ],
      "text/plain": [
       "     Date  Profit/Losses\n",
       "0  Jan-10         867884\n",
       "1  Feb-10         984655\n",
       "2  Mar-10         322013\n",
       "3  Apr-10         -69417\n",
       "4  May-10         310503"
      ]
     },
     "execution_count": 2,
     "metadata": {},
     "output_type": "execute_result"
    }
   ],
   "source": [
    "#Ensure the csv file uploaded is correct by using head function\n",
    "budget_dataframe.head(5)"
   ]
  },
  {
   "cell_type": "code",
   "execution_count": 79,
   "id": "a987d703-6c63-4afe-8646-26cac0530310",
   "metadata": {},
   "outputs": [],
   "source": [
    "# The total number of months included in the dataset.\n",
    "total_months = budget_dataframe.iloc[:,0].count()"
   ]
  },
  {
   "cell_type": "code",
   "execution_count": 80,
   "id": "d5466cd5-5b31-437f-8ccb-bb5f33e566c7",
   "metadata": {},
   "outputs": [],
   "source": [
    "# The net total amount of Profit/Losses over the entire period.\n",
    "net_total_amount = budget_dataframe.iloc[:,1].sum()"
   ]
  },
  {
   "cell_type": "code",
   "execution_count": 81,
   "id": "219e04ac-9fbc-4c1b-911d-98e7d9216b05",
   "metadata": {},
   "outputs": [
    {
     "data": {
      "text/html": [
       "<div>\n",
       "<style scoped>\n",
       "    .dataframe tbody tr th:only-of-type {\n",
       "        vertical-align: middle;\n",
       "    }\n",
       "\n",
       "    .dataframe tbody tr th {\n",
       "        vertical-align: top;\n",
       "    }\n",
       "\n",
       "    .dataframe thead th {\n",
       "        text-align: right;\n",
       "    }\n",
       "</style>\n",
       "<table border=\"1\" class=\"dataframe\">\n",
       "  <thead>\n",
       "    <tr style=\"text-align: right;\">\n",
       "      <th></th>\n",
       "      <th>Date</th>\n",
       "      <th>Profit/Losses</th>\n",
       "      <th>Change in P/L</th>\n",
       "    </tr>\n",
       "  </thead>\n",
       "  <tbody>\n",
       "    <tr>\n",
       "      <th>0</th>\n",
       "      <td>Jan-10</td>\n",
       "      <td>867884</td>\n",
       "      <td>NaN</td>\n",
       "    </tr>\n",
       "    <tr>\n",
       "      <th>1</th>\n",
       "      <td>Feb-10</td>\n",
       "      <td>984655</td>\n",
       "      <td>116771.0</td>\n",
       "    </tr>\n",
       "    <tr>\n",
       "      <th>2</th>\n",
       "      <td>Mar-10</td>\n",
       "      <td>322013</td>\n",
       "      <td>-662642.0</td>\n",
       "    </tr>\n",
       "    <tr>\n",
       "      <th>3</th>\n",
       "      <td>Apr-10</td>\n",
       "      <td>-69417</td>\n",
       "      <td>-391430.0</td>\n",
       "    </tr>\n",
       "    <tr>\n",
       "      <th>4</th>\n",
       "      <td>May-10</td>\n",
       "      <td>310503</td>\n",
       "      <td>379920.0</td>\n",
       "    </tr>\n",
       "  </tbody>\n",
       "</table>\n",
       "</div>"
      ],
      "text/plain": [
       "     Date  Profit/Losses  Change in P/L\n",
       "0  Jan-10         867884            NaN\n",
       "1  Feb-10         984655       116771.0\n",
       "2  Mar-10         322013      -662642.0\n",
       "3  Apr-10         -69417      -391430.0\n",
       "4  May-10         310503       379920.0"
      ]
     },
     "execution_count": 81,
     "metadata": {},
     "output_type": "execute_result"
    }
   ],
   "source": [
    "# The average of the changes in Profit/Losses over the entire period.\n",
    "# Add a column that calculates the change of profit and losses, then add the total and divide by the number of\n",
    "# months, remembering to minus one month for the calculation.\n",
    "#create extra change in P/L column and test\n",
    "budget_dataframe[\"Change in P/L\"] = (budget_dataframe.iloc[:,1] - budget_dataframe.iloc[:,1].shift(1))\n",
    "budget_dataframe.head(5)"
   ]
  },
  {
   "cell_type": "code",
   "execution_count": 82,
   "id": "a34e4a0e-4794-4aff-a6e2-c6b481f65b99",
   "metadata": {},
   "outputs": [],
   "source": [
    "# The average of the changes in Profit/Losses over the entire period.\n",
    "sum_profit_loss = budget_dataframe.iloc[1:,2].sum()\n",
    "avg_profit_loss = (sum_profit_loss / (total_months-1)).round(2)"
   ]
  },
  {
   "cell_type": "code",
   "execution_count": 93,
   "id": "2abc5f2b-2a52-404e-895d-c62fecbd93dd",
   "metadata": {},
   "outputs": [],
   "source": [
    "#find min and max values in the \"Change in P/L\" column\n",
    "\n",
    "max_increase = budget_dataframe.iloc[:,2].max()\n",
    "max_decrease = budget_dataframe.iloc[:,2].min()"
   ]
  },
  {
   "cell_type": "code",
   "execution_count": 84,
   "id": "51425cf6-2fbc-4482-80a6-8507724e4889",
   "metadata": {},
   "outputs": [],
   "source": [
    "#Locate what date corresponds to both min and max values\n",
    "\n",
    "max_date = budget_dataframe.loc[budget_dataframe['Change in P/L'].idxmax(), 'Date']\n",
    "min_date = budget_dataframe.loc[budget_dataframe['Change in P/L'].idxmin(), 'Date']"
   ]
  },
  {
   "cell_type": "code",
   "execution_count": 92,
   "id": "b73bb299-e934-4cd8-89b7-999120feba91",
   "metadata": {},
   "outputs": [
    {
     "name": "stdout",
     "output_type": "stream",
     "text": [
      "Financial Analysis\n",
      "------------------------------\n",
      "Total Months: 86\n",
      "Net Total Profit/Loss: $ 38382578\n",
      "Average Change In Profit/Loss: $ -2315.12\n",
      "Greatest Increase In Profits: $ 1926159.0\n",
      "Greatest Decrease In Profits): $ -2196167.0\n"
     ]
    }
   ],
   "source": [
    "print(\"Financial Analysis\")\n",
    "print(\"------------------------------\")\n",
    "print(f\"Total Months:\", total_months)\n",
    "print(f\"Net Total Profit/Loss: $\",net_total_amount)\n",
    "print(f\"Average Change In Profit/Loss: $\", avg_profit_loss)\n",
    "print(f\"Greatest Increase In Profits: $\", max_increase)\n",
    "print(f\"Greatest Decrease In Profits): $\", max_decrease)"
   ]
  },
  {
   "cell_type": "code",
   "execution_count": null,
   "id": "4a5ae6bb-7829-46a2-9e21-b9e21d5989f7",
   "metadata": {},
   "outputs": [],
   "source": []
  }
 ],
 "metadata": {
  "kernelspec": {
   "display_name": "Python 3",
   "language": "python",
   "name": "python3"
  },
  "language_info": {
   "codemirror_mode": {
    "name": "ipython",
    "version": 3
   },
   "file_extension": ".py",
   "mimetype": "text/x-python",
   "name": "python",
   "nbconvert_exporter": "python",
   "pygments_lexer": "ipython3",
   "version": "3.8.8"
  }
 },
 "nbformat": 4,
 "nbformat_minor": 5
}
